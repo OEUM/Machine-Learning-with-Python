{
  "nbformat": 4,
  "nbformat_minor": 0,
  "metadata": {
    "colab": {
      "name": "Algoritmo Genetico para el TSP.ipynb",
      "version": "0.3.2",
      "provenance": [],
      "collapsed_sections": [],
      "include_colab_link": true
    },
    "kernelspec": {
      "name": "python3",
      "display_name": "Python 3"
    }
  },
  "cells": [
    {
      "cell_type": "markdown",
      "metadata": {
        "id": "view-in-github",
        "colab_type": "text"
      },
      "source": [
        "<a href=\"https://colab.research.google.com/github/OEUM/Machine-Learning-with-Python/blob/master/Algoritmo_Genetico_para_el_TSP.ipynb\" target=\"_parent\"><img src=\"https://colab.research.google.com/assets/colab-badge.svg\" alt=\"Open In Colab\"/></a>"
      ]
    },
    {
      "cell_type": "code",
      "metadata": {
        "id": "phDZ4-u9GaNq",
        "colab_type": "code",
        "colab": {}
      },
      "source": [
        "!pip install requests\n",
        "import urllib.request\n",
        "\n",
        "!pip install tsplib95\n",
        "import tsplib95"
      ],
      "execution_count": 0,
      "outputs": []
    },
    {
      "cell_type": "code",
      "metadata": {
        "id": "Z-LCc1iNGrYd",
        "colab_type": "code",
        "outputId": "e2db6777-5a2e-4ec3-f827-4d3e1cde7faf",
        "colab": {
          "base_uri": "https://localhost:8080/",
          "height": 34
        }
      },
      "source": [
        "#Librerias y carga del problema\n",
        "\n",
        "#http://elib.zib.de/pub/mp-testdata/tsp/tsplib/\n",
        "#Documentacion : \n",
        "  # https://wwwproxy.iwr.uni-heidelberg.de/groups/comopt/software/TSPLIB95/tsp95.pdf\n",
        "  # https://tsplib95.readthedocs.io/usage.html\n",
        "  # https://tsplib95.readthedocs.io/modules.html#module-tsplib95.models\n",
        "\n",
        "#Matriz de distancias\n",
        "file = \"swiss42.tsp\" ; urllib.request.urlretrieve(\"http://elib.zib.de/pub/mp-testdata/tsp/tsplib/tsp/swiss42.tsp\", file)\n",
        "\n",
        "#Objeto de tsplib95 para nuestro problema problema\n",
        "problem = tsplib95.load_problem(file)\n",
        "\n",
        "#Nodos\n",
        "Nodos = list(problem.get_nodes())\n",
        "\n",
        "#Aristas\n",
        "Aristas = list(problem.get_edges())\n",
        "\n",
        "#Coordenadas(si estan disponibles en el ficher)\n",
        "problem.get_display(1)\n",
        "\n",
        "#Distancia \n",
        "problem.wfunc(1, 2)\n",
        "\n",
        "#Matriz de distancias\n",
        "# [ [problem.wfunc(i, j)   for i in  list(problem.get_nodes()) ]  for j in  list(problem.get_nodes()) ]  "
      ],
      "execution_count": 0,
      "outputs": [
        {
          "output_type": "execute_result",
          "data": {
            "text/plain": [
              "34"
            ]
          },
          "metadata": {
            "tags": []
          },
          "execution_count": 5
        }
      ]
    },
    {
      "cell_type": "code",
      "metadata": {
        "id": "c9LuGRUEGbCr",
        "colab_type": "code",
        "colab": {}
      },
      "source": [
        "#Funcion principal del algoritmo genetico\n",
        "#######################################################3\n",
        "def algoritmo_genetico(problem=problem,N=100,mutacion=.15,elitismo=.1,generaciones=100):\n",
        "  # problem = datos del problema\n",
        "  # N = Tamaño de la población\n",
        "  # mutacion = probabilidad de una mutación\n",
        "  # elitismo = porcion de la mejor poblacion a mantener\n",
        "  # generaciones = nº de generaciones a generar para finalizar\n",
        "\n",
        "  #Genera la poblacion inicial\n",
        "  Nodos = list(problem.get_nodes())\n",
        "  poblacion = generar_poblacion(Nodos,N)\n",
        "  \n",
        "  #Inicializamos valores para la mejor solucion\n",
        "  (mejor_solucion, mejor_distancia) = Evaluar_Poblacion(poblacion, problem)\n",
        "  \n",
        "  #Condicion de parada\n",
        "  parar = False\n",
        "  n=0\n",
        "  #Inciamos el cliclo de generaciones\n",
        "  while(parar == False) :\n",
        "    \n",
        "    #Cruce de la poblacion(incluye mutación)\n",
        "    poblacion = Cruzar(poblacion,mutacion)\n",
        "  \n",
        "    #Seleccionamos la población\n",
        "    poblacion = Seleccionar(problem,poblacion, N, elitismo)\n",
        "      \n",
        "    #Evaluamos la nueva población\n",
        "    (mejor_solucion, mejor_distancia) = Evaluar_Poblacion(poblacion, problem)\n",
        "  \n",
        "    print(\"Generacion #\", n, \"\\nLa mejor solución es:\" , mejor_solucion, \"\\ncon distancia \" , mejor_distancia, \"\\n\")\n",
        " \n",
        "    #Numero de generaciones. Criterio de parada\n",
        "    if n==generaciones:\n",
        "      parar = True\n",
        "    n +=1\n",
        "    \n",
        "  return mejor_solucion\n",
        "  \n",
        "sol = algoritmo_genetico(problem=problem,N=1000,mutacion=.15,elitismo=.1,generaciones=200)"
      ],
      "execution_count": 0,
      "outputs": []
    }
  ]
}